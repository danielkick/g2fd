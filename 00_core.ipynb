{
 "cells": [
  {
   "cell_type": "markdown",
   "metadata": {},
   "source": [
    "# `g2fd` is the fast and easy way to access Genomes to Fields data.\n",
    "\n",
    "> This module enables easy access to data from the [Genomes to Fields initiative](https://www.genomes2fields.org/). Not all data provided through cyverse is available here and decisions on data inclusion and imputation have been made that may not meet your needs. Data organization is based on the workflow in [Kick et al. 2022](https://www.biorxiv.org/content/10.1101/2022.07.29.502051v1)"
   ]
  },
  {
   "cell_type": "code",
   "execution_count": null,
   "metadata": {},
   "outputs": [],
   "source": [
    "#| default_exp core"
   ]
  },
  {
   "cell_type": "code",
   "execution_count": null,
   "metadata": {},
   "outputs": [],
   "source": [
    "#| hide\n",
    "from nbdev.showdoc import *"
   ]
  },
  {
   "cell_type": "code",
   "execution_count": null,
   "metadata": {},
   "outputs": [],
   "source": [
    "#| export\n",
    "# def foo(): pass"
   ]
  },
  {
   "cell_type": "code",
   "execution_count": null,
   "metadata": {},
   "outputs": [],
   "source": [
    "#| hide\n",
    "import nbdev; nbdev.nbdev_export()"
   ]
  },
  {
   "cell_type": "markdown",
   "metadata": {},
   "source": [
    "Data represented here is found at https://www.genomes2fields.org/resources/\n",
    "Additionally you will need the file `g2f_2015_agronomic information.csv` which is reformatted to be more easily read in.\n",
    "\n",
    "Code is to be run using the conda `g2fd` enviroment, which can be built from the \"g2fd_env.yml\" file provided.\n",
    "1. create the enviorment from the yml\n",
    "conda env create -f g2fd_env.yml\n",
    "2. activate it\n",
    "conda activate g2fd\n",
    "3. if changes are made, export the new version\n",
    "conda env export > g2fd_env.yml\n",
    "\n"
   ]
  }
 ],
 "metadata": {
  "kernelspec": {
   "display_name": "Python 3 (ipykernel)",
   "language": "python",
   "name": "python3"
  }
 },
 "nbformat": 4,
 "nbformat_minor": 4
}
